{
  "nbformat": 4,
  "nbformat_minor": 0,
  "metadata": {
    "colab": {
      "name": "GPAPrediction.ipynb",
      "provenance": []
    },
    "kernelspec": {
      "name": "python3",
      "display_name": "Python 3"
    }
  },
  "cells": [
    {
      "cell_type": "code",
      "metadata": {
        "id": "XrzS5wD7yQbH",
        "colab_type": "code",
        "colab": {}
      },
      "source": [
        "import keras\n",
        "\n",
        "import tensorflow as tf\n",
        "%matplotlib inline\n",
        "import matplotlib.pyplot as plt\n",
        "import numpy as np # linear algebra\n",
        "import pandas as pd # data processing, CSV file I/O (e.g. pd.read_csv)"
      ],
      "execution_count": 0,
      "outputs": []
    },
    {
      "cell_type": "code",
      "metadata": {
        "id": "mX2AIhGAySFW",
        "colab_type": "code",
        "outputId": "b951b7c0-0363-4449-a107-4dc2d497832d",
        "colab": {
          "resources": {
            "http://localhost:8080/nbextensions/google.colab/files.js": {
              "data": "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",
              "ok": true,
              "headers": [
                [
                  "content-type",
                  "application/javascript"
                ]
              ],
              "status": 200,
              "status_text": ""
            }
          },
          "base_uri": "https://localhost:8080/",
          "height": 71
        }
      },
      "source": [
        "from google.colab import files\n",
        "upload = files.upload()"
      ],
      "execution_count": 0,
      "outputs": [
        {
          "output_type": "display_data",
          "data": {
            "text/html": [
              "\n",
              "     <input type=\"file\" id=\"files-848fe255-57b2-4708-adc0-184ca795534d\" name=\"files[]\" multiple disabled />\n",
              "     <output id=\"result-848fe255-57b2-4708-adc0-184ca795534d\">\n",
              "      Upload widget is only available when the cell has been executed in the\n",
              "      current browser session. Please rerun this cell to enable.\n",
              "      </output>\n",
              "      <script src=\"/nbextensions/google.colab/files.js\"></script> "
            ],
            "text/plain": [
              "<IPython.core.display.HTML object>"
            ]
          },
          "metadata": {
            "tags": []
          }
        },
        {
          "output_type": "stream",
          "text": [
            "Saving SAT.csv to SAT.csv\n"
          ],
          "name": "stdout"
        }
      ]
    },
    {
      "cell_type": "code",
      "metadata": {
        "id": "bfa8PRliydvD",
        "colab_type": "code",
        "colab": {}
      },
      "source": [
        "df = pd.read_csv('SAT.csv')\n",
        "X = df[['SAT']].values\n",
        "y_true = df[['GPA']].values"
      ],
      "execution_count": 0,
      "outputs": []
    },
    {
      "cell_type": "code",
      "metadata": {
        "id": "ndg3o68nyk6_",
        "colab_type": "code",
        "colab": {}
      },
      "source": [
        "X"
      ],
      "execution_count": 0,
      "outputs": []
    },
    {
      "cell_type": "code",
      "metadata": {
        "id": "szpvNP9OypAZ",
        "colab_type": "code",
        "colab": {}
      },
      "source": [
        "model = tf.keras.Sequential()\n",
        "model.add(tf.keras.layers.Dense(1, input_shape=(1,)))"
      ],
      "execution_count": 0,
      "outputs": []
    },
    {
      "cell_type": "code",
      "metadata": {
        "id": "6drO1buZy7Tc",
        "colab_type": "code",
        "outputId": "aa320c0f-4010-4cfb-d6fb-c45b79ab8134",
        "colab": {
          "base_uri": "https://localhost:8080/",
          "height": 187
        }
      },
      "source": [
        "model.summary()"
      ],
      "execution_count": 0,
      "outputs": [
        {
          "output_type": "stream",
          "text": [
            "Model: \"sequential_1\"\n",
            "_________________________________________________________________\n",
            "Layer (type)                 Output Shape              Param #   \n",
            "=================================================================\n",
            "dense_1 (Dense)              (None, 1)                 2         \n",
            "=================================================================\n",
            "Total params: 2\n",
            "Trainable params: 2\n",
            "Non-trainable params: 0\n",
            "_________________________________________________________________\n"
          ],
          "name": "stdout"
        }
      ]
    },
    {
      "cell_type": "code",
      "metadata": {
        "id": "jSaSc9EtzpWy",
        "colab_type": "code",
        "colab": {}
      },
      "source": [
        "model.compile(optimizer=tf.optimizers.Adam(lr=0.001),loss=tf.losses.mean_squared_error)"
      ],
      "execution_count": 0,
      "outputs": []
    },
    {
      "cell_type": "code",
      "metadata": {
        "id": "PSccGU13zuGy",
        "colab_type": "code",
        "outputId": "60f966b2-1fb2-4b28-f2af-d0b4eb4e0910",
        "colab": {
          "base_uri": "https://localhost:8080/",
          "height": 1000
        }
      },
      "source": [
        "model.fit(X, y_true, epochs=100, batch_size=10)"
      ],
      "execution_count": 0,
      "outputs": [
        {
          "output_type": "stream",
          "text": [
            "Epoch 1/100\n",
            "8/8 [==============================] - 0s 2ms/step - loss: 0.0894\n",
            "Epoch 2/100\n",
            "8/8 [==============================] - 0s 1ms/step - loss: 0.1124\n",
            "Epoch 3/100\n",
            "8/8 [==============================] - 0s 1ms/step - loss: 0.0685\n",
            "Epoch 4/100\n",
            "8/8 [==============================] - 0s 1ms/step - loss: 0.0499\n",
            "Epoch 5/100\n",
            "8/8 [==============================] - 0s 1ms/step - loss: 0.0505\n",
            "Epoch 6/100\n",
            "8/8 [==============================] - 0s 1ms/step - loss: 0.0606\n",
            "Epoch 7/100\n",
            "8/8 [==============================] - 0s 1ms/step - loss: 0.0542\n",
            "Epoch 8/100\n",
            "8/8 [==============================] - 0s 1ms/step - loss: 0.0475\n",
            "Epoch 9/100\n",
            "8/8 [==============================] - 0s 1ms/step - loss: 0.0522\n",
            "Epoch 10/100\n",
            "8/8 [==============================] - 0s 1ms/step - loss: 0.0463\n",
            "Epoch 11/100\n",
            "8/8 [==============================] - 0s 1ms/step - loss: 0.0573\n",
            "Epoch 12/100\n",
            "8/8 [==============================] - 0s 1ms/step - loss: 0.0580\n",
            "Epoch 13/100\n",
            "8/8 [==============================] - 0s 1ms/step - loss: 0.0550\n",
            "Epoch 14/100\n",
            "8/8 [==============================] - 0s 1ms/step - loss: 0.0483\n",
            "Epoch 15/100\n",
            "8/8 [==============================] - 0s 1ms/step - loss: 0.0484\n",
            "Epoch 16/100\n",
            "8/8 [==============================] - 0s 1ms/step - loss: 0.0499\n",
            "Epoch 17/100\n",
            "8/8 [==============================] - 0s 1ms/step - loss: 0.0754\n",
            "Epoch 18/100\n",
            "8/8 [==============================] - 0s 1ms/step - loss: 0.1006\n",
            "Epoch 19/100\n",
            "8/8 [==============================] - 0s 1ms/step - loss: 0.0649\n",
            "Epoch 20/100\n",
            "8/8 [==============================] - 0s 1ms/step - loss: 0.0633\n",
            "Epoch 21/100\n",
            "8/8 [==============================] - 0s 1ms/step - loss: 0.0841\n",
            "Epoch 22/100\n",
            "8/8 [==============================] - 0s 1ms/step - loss: 0.0965\n",
            "Epoch 23/100\n",
            "8/8 [==============================] - 0s 1ms/step - loss: 0.0688\n",
            "Epoch 24/100\n",
            "8/8 [==============================] - 0s 1ms/step - loss: 0.0902\n",
            "Epoch 25/100\n",
            "8/8 [==============================] - 0s 1ms/step - loss: 0.0805\n",
            "Epoch 26/100\n",
            "8/8 [==============================] - 0s 1ms/step - loss: 0.0479\n",
            "Epoch 27/100\n",
            "8/8 [==============================] - 0s 1ms/step - loss: 0.0550\n",
            "Epoch 28/100\n",
            "8/8 [==============================] - 0s 1ms/step - loss: 0.0894\n",
            "Epoch 29/100\n",
            "8/8 [==============================] - 0s 1ms/step - loss: 0.0815\n",
            "Epoch 30/100\n",
            "8/8 [==============================] - 0s 1ms/step - loss: 0.0528\n",
            "Epoch 31/100\n",
            "8/8 [==============================] - 0s 1ms/step - loss: 0.0538\n",
            "Epoch 32/100\n",
            "8/8 [==============================] - 0s 1ms/step - loss: 0.0528\n",
            "Epoch 33/100\n",
            "8/8 [==============================] - 0s 1ms/step - loss: 0.0646\n",
            "Epoch 34/100\n",
            "8/8 [==============================] - 0s 1ms/step - loss: 0.0491\n",
            "Epoch 35/100\n",
            "8/8 [==============================] - 0s 1ms/step - loss: 0.0495\n",
            "Epoch 36/100\n",
            "8/8 [==============================] - 0s 1ms/step - loss: 0.0550\n",
            "Epoch 37/100\n",
            "8/8 [==============================] - 0s 1ms/step - loss: 0.0581\n",
            "Epoch 38/100\n",
            "8/8 [==============================] - 0s 2ms/step - loss: 0.0512\n",
            "Epoch 39/100\n",
            "8/8 [==============================] - 0s 1ms/step - loss: 0.0496\n",
            "Epoch 40/100\n",
            "8/8 [==============================] - 0s 2ms/step - loss: 0.0561\n",
            "Epoch 41/100\n",
            "8/8 [==============================] - 0s 2ms/step - loss: 0.0668\n",
            "Epoch 42/100\n",
            "8/8 [==============================] - 0s 2ms/step - loss: 0.0743\n",
            "Epoch 43/100\n",
            "8/8 [==============================] - 0s 1ms/step - loss: 0.0927\n",
            "Epoch 44/100\n",
            "8/8 [==============================] - 0s 1ms/step - loss: 0.0698\n",
            "Epoch 45/100\n",
            "8/8 [==============================] - 0s 1ms/step - loss: 0.0449\n",
            "Epoch 46/100\n",
            "8/8 [==============================] - 0s 1ms/step - loss: 0.0616\n",
            "Epoch 47/100\n",
            "8/8 [==============================] - 0s 1ms/step - loss: 0.0976\n",
            "Epoch 48/100\n",
            "8/8 [==============================] - 0s 1ms/step - loss: 0.0482\n",
            "Epoch 49/100\n",
            "8/8 [==============================] - 0s 1ms/step - loss: 0.0499\n",
            "Epoch 50/100\n",
            "8/8 [==============================] - 0s 2ms/step - loss: 0.0488\n",
            "Epoch 51/100\n",
            "8/8 [==============================] - 0s 1ms/step - loss: 0.0728\n",
            "Epoch 52/100\n",
            "8/8 [==============================] - 0s 1ms/step - loss: 0.0769\n",
            "Epoch 53/100\n",
            "8/8 [==============================] - 0s 1ms/step - loss: 0.1208\n",
            "Epoch 54/100\n",
            "8/8 [==============================] - 0s 1ms/step - loss: 0.0932\n",
            "Epoch 55/100\n",
            "8/8 [==============================] - 0s 1ms/step - loss: 0.0895\n",
            "Epoch 56/100\n",
            "8/8 [==============================] - 0s 1ms/step - loss: 0.0636\n",
            "Epoch 57/100\n",
            "8/8 [==============================] - 0s 1ms/step - loss: 0.0565\n",
            "Epoch 58/100\n",
            "8/8 [==============================] - 0s 1ms/step - loss: 0.0600\n",
            "Epoch 59/100\n",
            "8/8 [==============================] - 0s 1ms/step - loss: 0.0602\n",
            "Epoch 60/100\n",
            "8/8 [==============================] - 0s 1ms/step - loss: 0.0511\n",
            "Epoch 61/100\n",
            "8/8 [==============================] - 0s 1ms/step - loss: 0.0557\n",
            "Epoch 62/100\n",
            "8/8 [==============================] - 0s 1ms/step - loss: 0.0459\n",
            "Epoch 63/100\n",
            "8/8 [==============================] - 0s 1ms/step - loss: 0.0489\n",
            "Epoch 64/100\n",
            "8/8 [==============================] - 0s 1ms/step - loss: 0.0606\n",
            "Epoch 65/100\n",
            "8/8 [==============================] - 0s 1ms/step - loss: 0.0749\n",
            "Epoch 66/100\n",
            "8/8 [==============================] - 0s 1ms/step - loss: 0.0474\n",
            "Epoch 67/100\n",
            "8/8 [==============================] - 0s 1ms/step - loss: 0.0468\n",
            "Epoch 68/100\n",
            "8/8 [==============================] - 0s 1ms/step - loss: 0.0741\n",
            "Epoch 69/100\n",
            "8/8 [==============================] - 0s 1ms/step - loss: 0.0479\n",
            "Epoch 70/100\n",
            "8/8 [==============================] - 0s 1ms/step - loss: 0.0584\n",
            "Epoch 71/100\n",
            "8/8 [==============================] - 0s 1ms/step - loss: 0.0477\n",
            "Epoch 72/100\n",
            "8/8 [==============================] - 0s 1ms/step - loss: 0.0708\n",
            "Epoch 73/100\n",
            "8/8 [==============================] - 0s 1ms/step - loss: 0.0714\n",
            "Epoch 74/100\n",
            "8/8 [==============================] - 0s 1ms/step - loss: 0.0509\n",
            "Epoch 75/100\n",
            "8/8 [==============================] - 0s 1ms/step - loss: 0.0585\n",
            "Epoch 76/100\n",
            "8/8 [==============================] - 0s 1ms/step - loss: 0.0610\n",
            "Epoch 77/100\n",
            "8/8 [==============================] - 0s 1ms/step - loss: 0.0532\n",
            "Epoch 78/100\n",
            "8/8 [==============================] - 0s 2ms/step - loss: 0.0566\n",
            "Epoch 79/100\n",
            "8/8 [==============================] - 0s 1ms/step - loss: 0.0619\n",
            "Epoch 80/100\n",
            "8/8 [==============================] - 0s 2ms/step - loss: 0.0602\n",
            "Epoch 81/100\n",
            "8/8 [==============================] - 0s 1ms/step - loss: 0.0846\n",
            "Epoch 82/100\n",
            "8/8 [==============================] - 0s 1ms/step - loss: 0.1015\n",
            "Epoch 83/100\n",
            "8/8 [==============================] - 0s 1ms/step - loss: 0.0577\n",
            "Epoch 84/100\n",
            "8/8 [==============================] - 0s 1ms/step - loss: 0.0773\n",
            "Epoch 85/100\n",
            "8/8 [==============================] - 0s 2ms/step - loss: 0.1133\n",
            "Epoch 86/100\n",
            "8/8 [==============================] - 0s 1ms/step - loss: 0.0681\n",
            "Epoch 87/100\n",
            "8/8 [==============================] - 0s 1ms/step - loss: 0.0598\n",
            "Epoch 88/100\n",
            "8/8 [==============================] - 0s 2ms/step - loss: 0.0437\n",
            "Epoch 89/100\n",
            "8/8 [==============================] - 0s 1ms/step - loss: 0.0508\n",
            "Epoch 90/100\n",
            "8/8 [==============================] - 0s 1ms/step - loss: 0.0440\n",
            "Epoch 91/100\n",
            "8/8 [==============================] - 0s 1ms/step - loss: 0.0517\n",
            "Epoch 92/100\n",
            "8/8 [==============================] - 0s 1ms/step - loss: 0.0529\n",
            "Epoch 93/100\n",
            "8/8 [==============================] - 0s 1ms/step - loss: 0.0491\n",
            "Epoch 94/100\n",
            "8/8 [==============================] - 0s 2ms/step - loss: 0.0632\n",
            "Epoch 95/100\n",
            "8/8 [==============================] - 0s 2ms/step - loss: 0.0492\n",
            "Epoch 96/100\n",
            "8/8 [==============================] - 0s 1ms/step - loss: 0.0456\n",
            "Epoch 97/100\n",
            "8/8 [==============================] - 0s 1ms/step - loss: 0.0484\n",
            "Epoch 98/100\n",
            "8/8 [==============================] - 0s 1ms/step - loss: 0.0493\n",
            "Epoch 99/100\n",
            "8/8 [==============================] - 0s 1ms/step - loss: 0.0476\n",
            "Epoch 100/100\n",
            "8/8 [==============================] - 0s 1ms/step - loss: 0.0427\n"
          ],
          "name": "stdout"
        },
        {
          "output_type": "execute_result",
          "data": {
            "text/plain": [
              "<tensorflow.python.keras.callbacks.History at 0x7f4803f15358>"
            ]
          },
          "metadata": {
            "tags": []
          },
          "execution_count": 68
        }
      ]
    },
    {
      "cell_type": "code",
      "metadata": {
        "id": "-1nizjKWz638",
        "colab_type": "code",
        "colab": {}
      },
      "source": [
        "y_pred= model.predict(X)"
      ],
      "execution_count": 0,
      "outputs": []
    },
    {
      "cell_type": "code",
      "metadata": {
        "id": "UwJep91z0MCq",
        "colab_type": "code",
        "outputId": "ab80e835-c051-48c7-e75a-4731dd073704",
        "colab": {
          "base_uri": "https://localhost:8080/",
          "height": 312
        }
      },
      "source": [
        "df.plot(kind='scatter',\n",
        "       x='SAT',\n",
        "       y='GPA', title='GPA and SAT Corelation')\n",
        "plt.plot(X, y_pred, color='red', linewidth=3)"
      ],
      "execution_count": 0,
      "outputs": [
        {
          "output_type": "execute_result",
          "data": {
            "text/plain": [
              "[<matplotlib.lines.Line2D at 0x7f48050d5e48>]"
            ]
          },
          "metadata": {
            "tags": []
          },
          "execution_count": 70
        },
        {
          "output_type": "display_data",
          "data": {
            "image/png": "[encoded data removed]",
            "text/plain": [
              "<Figure size 432x288 with 1 Axes>"
            ]
          },
          "metadata": {
            "tags": []
          }
        }
      ]
    },
    {
      "cell_type": "code",
      "metadata": {
        "id": "xKdAKu6d0Ryz",
        "colab_type": "code",
        "outputId": "adae275e-9485-4ef0-e445-ed094cd11179",
        "colab": {
          "base_uri": "https://localhost:8080/",
          "height": 85
        }
      },
      "source": [
        "newSAT = [1810, 1764, 1962, 2400]\n",
        "for i in newSAT:\n",
        "  print(model.predict([i]))"
      ],
      "execution_count": 0,
      "outputs": [
        {
          "output_type": "stream",
          "text": [
            "[[3.2744658]]\n",
            "[[3.214974]]\n",
            "[[3.4710474]]\n",
            "[[4.0375133]]\n"
          ],
          "name": "stdout"
        }
      ]
    },
    {
      "cell_type": "code",
      "metadata": {
        "id": "KGKA-vvN19lr",
        "colab_type": "code",
        "colab": {}
      },
      "source": [
        ""
      ],
      "execution_count": 0,
      "outputs": []
    }
  ]
}